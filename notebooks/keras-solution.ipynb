{
 "cells": [
  {
   "cell_type": "code",
   "execution_count": null,
   "metadata": {},
   "outputs": [],
   "source": [
    "%load_ext autoreload\n",
    "%autoreload 2\n",
    "%matplotlib inline\n",
    "\n",
    "# update import path\n",
    "import os, sys\n",
    "sys.path.insert(1, os.path.join(sys.path[0], '..', 'src'))\n",
    "\n",
    "import io\n",
    "import pandas as pd\n",
    "import numpy as np\n",
    "import matplotlib.pyplot as plt\n",
    "from sklearn.metrics import mean_absolute_error\n",
    "from sklearn.model_selection import train_test_split\n",
    "\n",
    "# import keras modules\n",
    "import keras\n",
    "from keras.models import Sequential\n",
    "from keras.layers import Dense, Dropout\n",
    "from keras import optimizers\n",
    "from keras import losses"
   ]
  },
  {
   "cell_type": "code",
   "execution_count": null,
   "metadata": {},
   "outputs": [],
   "source": [
    "# read csv\n",
    "data = pd.read_csv(os.path.join('..', 'data', 'datasets', 'log.csv'), index_col=0)\n",
    "\n",
    "# make datetime index (could also be done directly in read_csv)\n",
    "data['datetime'] = pd.to_datetime(data['datetime'])\n",
    "data = data.set_index('datetime')\n",
    "data = data.dropna()\n",
    "\n",
    "print (data.shape)\n",
    "data.head()"
   ]
  },
  {
   "cell_type": "code",
   "execution_count": null,
   "metadata": {},
   "outputs": [],
   "source": [
    "# show the boat approaching the target course\n",
    "data['target_angle'].plot()\n",
    "data['boat_angle'].plot()"
   ]
  },
  {
   "cell_type": "code",
   "execution_count": null,
   "metadata": {},
   "outputs": [],
   "source": [
    "# select features and target\n",
    "y = data['rudder_angle']\n",
    "x = data[['angle_of_attack', 'boat_heel', 'boat_speed', 'course_error', 'wind_speed']]\n",
    "\n",
    "# split test/train sets\n",
    "x_train, x_test, y_train, y_test = train_test_split(x, y, test_size=0.10, random_state=42)\n",
    "\n",
    "# create model\n",
    "model = Sequential([\n",
    "    Dense(128, activation='relu', input_shape=(5,)),\n",
    "    Dense(128, activation='relu'),\n",
    "    Dense(128, activation='relu'),\n",
    "    Dense(1)\n",
    "])\n",
    "\n",
    "# compile model\n",
    "model.compile(loss='mse', optimizer=optimizers.Adam(lr=0.0002))\n",
    "model.summary()\n",
    "\n",
    "# fit model to training data\n",
    "model.fit(x_train, y_train, validation_split=0.2, epochs=20)\n",
    "\n",
    "# show performance\n",
    "pred_y = model.predict(x_test)\n",
    "print (mean_absolute_error(pred_y, y_test))"
   ]
  },
  {
   "cell_type": "code",
   "execution_count": null,
   "metadata": {
    "collapsed": true
   },
   "outputs": [],
   "source": [
    "# save model to file\n",
    "model.save(os.path.join('..', 'src', 'strategies', 'my_deep_strategy', 'my-keras-model.h5'))"
   ]
  },
  {
   "cell_type": "code",
   "execution_count": null,
   "metadata": {
    "collapsed": true
   },
   "outputs": [],
   "source": []
  }
 ],
 "metadata": {
  "kernelspec": {
   "display_name": "Python [conda env:aicaptain]",
   "language": "python",
   "name": "conda-env-aicaptain-py"
  },
  "language_info": {
   "codemirror_mode": {
    "name": "ipython",
    "version": 3
   },
   "file_extension": ".py",
   "mimetype": "text/x-python",
   "name": "python",
   "nbconvert_exporter": "python",
   "pygments_lexer": "ipython3",
   "version": "3.6.7"
  }
 },
 "nbformat": 4,
 "nbformat_minor": 1
}
