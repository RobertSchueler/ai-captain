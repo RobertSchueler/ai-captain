{
 "cells": [
  {
   "cell_type": "code",
   "execution_count": null,
   "metadata": {},
   "outputs": [],
   "source": [
    "%load_ext autoreload\n",
    "%autoreload 2\n",
    "%matplotlib inline\n",
    "\n",
    "# update import path\n",
    "import os, sys\n",
    "sys.path.insert(1, os.path.join(sys.path[0], '..', 'src'))\n",
    "\n",
    "import io\n",
    "import pandas as pd\n",
    "import numpy as np\n",
    "import matplotlib.pyplot as plt\n",
    "from sklearn.pipeline import Pipeline\n",
    "from importlib import reload\n",
    "from sklearn.ensemble import GradientBoostingRegressor\n",
    "from sklearn.metrics import mean_absolute_error\n",
    "from sklearn.externals import joblib\n",
    "from sklearn.model_selection import train_test_split\n",
    "from sklearn.linear_model import *\n",
    "from sklearn import svm\n",
    "from sklearn.preprocessing import PolynomialFeatures\n",
    "from sklearn.pipeline import make_pipeline\n",
    "from sklearn.preprocessing import StandardScaler, Normalizer\n",
    "from sklearn.neural_network import MLPRegressor\n",
    "\n",
    "# no warnings on dataframe slices\n",
    "pd.options.mode.chained_assignment = None"
   ]
  },
  {
   "cell_type": "code",
   "execution_count": null,
   "metadata": {},
   "outputs": [],
   "source": [
    "### read dataframe from data cleaning assignment ###"
   ]
  },
  {
   "cell_type": "markdown",
   "metadata": {},
   "source": [
    "# start training"
   ]
  },
  {
   "cell_type": "code",
   "execution_count": null,
   "metadata": {},
   "outputs": [],
   "source": [
    "# select features and target\n",
    "y = data1['boat_speed']\n",
    "x = data1[['aoa_abs', 'wind_speed']]\n",
    "\n",
    "# split test/train sets\n",
    "x_train, x_test, y_train, y_test = train_test_split(x, y, test_size=0.10, random_state=42)\n",
    "\n",
    "### train and fit a linear model ###\n",
    "\n",
    "# show performance\n",
    "pred_y = model.predict(x_test)\n",
    "print ('MAE: ', mean_absolute_error(pred_y, y_test))"
   ]
  },
  {
   "cell_type": "code",
   "execution_count": null,
   "metadata": {
    "collapsed": true
   },
   "outputs": [],
   "source": [
    "### normalize data before linear model using pipeline ###"
   ]
  },
  {
   "cell_type": "code",
   "execution_count": null,
   "metadata": {
    "collapsed": true
   },
   "outputs": [],
   "source": [
    "### use polynomial features ###"
   ]
  },
  {
   "cell_type": "code",
   "execution_count": null,
   "metadata": {
    "collapsed": true
   },
   "outputs": [],
   "source": [
    "### try gradient boosting ###"
   ]
  },
  {
   "cell_type": "code",
   "execution_count": null,
   "metadata": {
    "collapsed": true
   },
   "outputs": [],
   "source": [
    "### try some other sklearn models ###"
   ]
  },
  {
   "cell_type": "code",
   "execution_count": null,
   "metadata": {},
   "outputs": [],
   "source": [
    "# function to predict boat speeds for all angles\n",
    "def predict_boat_speeds(model, wind_speed):\n",
    "    aoa = np.linspace(0, 180, 181)\n",
    "    df = pd.DataFrame()\n",
    "    df['aoa'] = aoa\n",
    "    df['wind_speed'] = wind_speed\n",
    "    df['pred'] = model.predict(df[['aoa', 'wind_speed']])\n",
    "    df['vmg'] = df['pred'] * np.cos(np.radians((df['aoa'])))\n",
    "    return df\n",
    "\n",
    "# predict speeds for 20 knots\n",
    "df = predict_boat_speeds(model, 20)\n",
    "\n",
    "# show predicted speed and vmg\n",
    "plt.plot(df['aoa'], df['pred'])\n",
    "plt.plot(df['aoa'], df['vmg'])\n",
    "plt.legend()"
   ]
  },
  {
   "cell_type": "code",
   "execution_count": null,
   "metadata": {},
   "outputs": [],
   "source": [
    "# show polar plot\n",
    "def show_polar(model):\n",
    "    fig = plt.figure(figsize=(20, 10))\n",
    "    ax = fig.add_subplot(111, polar=True)\n",
    "\n",
    "    for wind_speed in [5, 10, 15, 20, 25]:\n",
    "        df = predict_boat_speeds(model, wind_speed)\n",
    "        _ = ax.plot(np.radians(df['aoa']), df['pred'], label=wind_speed)\n",
    "\n",
    "    ax.set_thetamin(0)\n",
    "    ax.set_thetamax(180)\n",
    "    ax.set_theta_zero_location('N')\n",
    "    ax.set_theta_direction(-1)\n",
    "    plt.legend()\n",
    "    plt.show()\n",
    "\n",
    "show_polar(model)"
   ]
  },
  {
   "cell_type": "code",
   "execution_count": null,
   "metadata": {},
   "outputs": [],
   "source": [
    "# predict tack and gybe angles for all wind speeds\n",
    "data = pd.DataFrame()\n",
    "for wind_speed in range(2, 50):\n",
    "    df = predict_boat_speeds(model, wind_speed)\n",
    "    row = {\n",
    "        'wind_speed': wind_speed,\n",
    "        'upwind_twa': df['vmg'].idxmax(),\n",
    "        'downwind_twa': df['vmg'].idxmin(),\n",
    "    }\n",
    "    data = data.append([row])\n",
    "\n",
    "# wind speed as index\n",
    "data = data.set_index('wind_speed')\n",
    "\n",
    "# save to file\n",
    "data.to_pickle(os.path.join('..', 'src', 'strategies', 'my_strategy', 'angles.pkl'))\n",
    "\n",
    "# show rows\n",
    "data"
   ]
  },
  {
   "cell_type": "code",
   "execution_count": null,
   "metadata": {
    "collapsed": true
   },
   "outputs": [],
   "source": []
  }
 ],
 "metadata": {
  "kernelspec": {
   "display_name": "Python [conda env:aicaptain]",
   "language": "python",
   "name": "conda-env-aicaptain-py"
  },
  "language_info": {
   "codemirror_mode": {
    "name": "ipython",
    "version": 3
   },
   "file_extension": ".py",
   "mimetype": "text/x-python",
   "name": "python",
   "nbconvert_exporter": "python",
   "pygments_lexer": "ipython3",
   "version": "3.6.7"
  }
 },
 "nbformat": 4,
 "nbformat_minor": 2
}
