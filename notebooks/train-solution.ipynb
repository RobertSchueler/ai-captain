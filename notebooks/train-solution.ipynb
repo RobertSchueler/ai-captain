{
 "cells": [
  {
   "cell_type": "code",
   "execution_count": null,
   "metadata": {},
   "outputs": [],
   "source": [
    "%load_ext autoreload\n",
    "%autoreload 2\n",
    "%matplotlib inline\n",
    "\n",
    "# update import path\n",
    "import os, sys\n",
    "sys.path.insert(1, os.path.join(sys.path[0], '..', 'src'))\n",
    "\n",
    "import io\n",
    "import pandas as pd\n",
    "import numpy as np\n",
    "import matplotlib.pyplot as plt\n",
    "from sklearn.pipeline import Pipeline\n",
    "from importlib import reload\n",
    "from sklearn.ensemble import GradientBoostingRegressor\n",
    "from sklearn.metrics import mean_absolute_error\n",
    "from sklearn.externals import joblib\n",
    "\n",
    "# no warnings on dataframe slices\n",
    "pd.options.mode.chained_assignment = None"
   ]
  },
  {
   "cell_type": "code",
   "execution_count": null,
   "metadata": {},
   "outputs": [],
   "source": [
    "# read csv\n",
    "data = pd.read_csv(os.path.join('..', 'data', 'logs', 'history_20180919_1238.csv'), index_col=0)\n",
    "\n",
    "# make datetime index (could also be done directly in read_csv)\n",
    "data['datetime'] = pd.to_datetime(data['datetime'])\n",
    "data = data.set_index('datetime')\n",
    "\n",
    "print (data.shape)\n",
    "data.head()"
   ]
  },
  {
   "cell_type": "code",
   "execution_count": null,
   "metadata": {},
   "outputs": [],
   "source": [
    "# show the boat approaching the target course\n",
    "_, ax = plt.subplots(figsize=(20, 10))\n",
    "data['target_angle'].plot(ax=ax)\n",
    "data['boat_angle'].plot(ax=ax)"
   ]
  },
  {
   "cell_type": "code",
   "execution_count": null,
   "metadata": {},
   "outputs": [],
   "source": [
    "# select features and target\n",
    "y = data['rudder_angle']\n",
    "x = data[['angle_of_attack', 'boat_heel', 'boat_speed', 'course_error', 'wind_speed']]\n",
    "\n",
    "# split test/train sets\n",
    "split = int(0.8 * data.shape[0])\n",
    "train_x, test_x = x[:split], x[split:]\n",
    "train_y, test_y = y[:split], y[split:]\n",
    "\n",
    "# train model\n",
    "model = GradientBoostingRegressor(n_estimators=100)\n",
    "model.fit(train_x, train_y)\n",
    "\n",
    "# show performance\n",
    "pred_y = model.predict(test_x)\n",
    "print (mean_absolute_error(pred_y, test_y))"
   ]
  },
  {
   "cell_type": "code",
   "execution_count": null,
   "metadata": {},
   "outputs": [],
   "source": [
    "# save model\n",
    "joblib.dump(model, os.path.join('..', 'data', 'my-model.pkl'))"
   ]
  }
 ],
 "metadata": {
  "kernelspec": {
   "display_name": "Python [conda env:aicaptain]",
   "language": "python",
   "name": "conda-env-aicaptain-py"
  },
  "language_info": {
   "codemirror_mode": {
    "name": "ipython",
    "version": 3
   },
   "file_extension": ".py",
   "mimetype": "text/x-python",
   "name": "python",
   "nbconvert_exporter": "python",
   "pygments_lexer": "ipython3",
   "version": "3.6.6"
  }
 },
 "nbformat": 4,
 "nbformat_minor": 2
}
