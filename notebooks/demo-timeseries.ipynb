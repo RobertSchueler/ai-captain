{
 "cells": [
  {
   "cell_type": "code",
   "execution_count": null,
   "metadata": {},
   "outputs": [],
   "source": [
    "%matplotlib inline\n",
    "\n",
    "# importing pandas and numpy\n",
    "import pandas as pd\n",
    "import numpy as np\n",
    "\n",
    "import matplotlib.pyplot as plt\n",
    "import os"
   ]
  },
  {
   "cell_type": "code",
   "execution_count": null,
   "metadata": {},
   "outputs": [],
   "source": [
    "# download dataset\n",
    "from urllib.request import urlretrieve\n",
    "filename = os.path.join('..', 'data', 'datasets', 'etmgeg_260.csv')\n",
    "if not os.path.isfile(filename):\n",
    "    print(\"Downloading %s\" % filename)\n",
    "    urlretrieve('https://s3.eu-central-1.amazonaws.com/ai-captain-public/datasets/etmgeg_260.csv', filename) "
   ]
  },
  {
   "cell_type": "code",
   "execution_count": null,
   "metadata": {},
   "outputs": [],
   "source": [
    "# TG\tEtmaalgemiddelde temperatuur (in 0.1 graden Celsius)\n",
    "# RH\tEtmaalsom van de neerslag (in 0.1 mm) (-1 voor <0.05 mm)\n",
    "# SP\tPercentage van de langst mogelijke zonneschijnduur\n",
    "# FG\tEtmaalgemiddelde windsnelheid (in 0.1 m/s)\n",
    "\n",
    "df = pd.read_csv(filename, index_col='YYYYMMDD', parse_dates=['YYYYMMDD'])\n",
    "df.head()"
   ]
  },
  {
   "cell_type": "code",
   "execution_count": null,
   "metadata": {},
   "outputs": [],
   "source": [
    "_, ax = plt.subplots(figsize=(20, 10))\n",
    "df.FG.plot(ax=ax)"
   ]
  },
  {
   "cell_type": "code",
   "execution_count": null,
   "metadata": {},
   "outputs": [],
   "source": [
    "# moving windows\n",
    "_, ax = plt.subplots(figsize=(20, 10))\n",
    "df.FG.rolling(90).mean().plot(ax=ax)\n",
    "df.FG.rolling(360).mean().plot(ax=ax)\n",
    "plt.grid(True)\n",
    "plt.legend()"
   ]
  },
  {
   "cell_type": "code",
   "execution_count": null,
   "metadata": {},
   "outputs": [],
   "source": [
    "# use seasonal features\n",
    "df['month'] = df.index.month\n",
    "df.groupby('month')['FG'].mean().plot(kind='bar')\n",
    "plt.show()\n",
    "\n",
    "# dayofweek\n",
    "df['dayofweek'] = df.index.dayofweek\n",
    "df.groupby('dayofweek')['RH'].mean().plot(kind='bar')\n",
    "plt.show()"
   ]
  },
  {
   "cell_type": "code",
   "execution_count": null,
   "metadata": {},
   "outputs": [],
   "source": []
  }
 ],
 "metadata": {
  "kernelspec": {
   "display_name": "Python [conda env:aicaptain]",
   "language": "python",
   "name": "conda-env-aicaptain-py"
  },
  "language_info": {
   "codemirror_mode": {
    "name": "ipython",
    "version": 3
   },
   "file_extension": ".py",
   "mimetype": "text/x-python",
   "name": "python",
   "nbconvert_exporter": "python",
   "pygments_lexer": "ipython3",
   "version": "3.6.7"
  }
 },
 "nbformat": 4,
 "nbformat_minor": 2
}
