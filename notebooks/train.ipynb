{
 "cells": [
  {
   "cell_type": "code",
   "execution_count": 25,
   "metadata": {},
   "outputs": [
    {
     "name": "stdout",
     "output_type": "stream",
     "text": [
      "The autoreload extension is already loaded. To reload it, use:\n",
      "  %reload_ext autoreload\n"
     ]
    }
   ],
   "source": [
    "%load_ext autoreload\n",
    "%autoreload 2\n",
    "%matplotlib inline\n",
    "\n",
    "# update import path\n",
    "import os, sys\n",
    "sys.path.insert(1, os.path.join(sys.path[0], '..', 'src'))\n",
    "\n",
    "import io\n",
    "import pandas as pd\n",
    "import numpy as np\n",
    "import matplotlib.pyplot as plt\n",
    "from sklearn.pipeline import Pipeline\n",
    "from importlib import reload\n",
    "from sklearn.ensemble import GradientBoostingRegressor\n",
    "from sklearn.metrics import mean_absolute_error\n",
    "from sklearn.externals import joblib\n",
    "\n",
    "# no warnings on dataframe slices\n",
    "pd.options.mode.chained_assignment = None"
   ]
  },
  {
   "cell_type": "code",
   "execution_count": 26,
   "metadata": {},
   "outputs": [
    {
     "data": {
      "text/html": [
       "<div>\n",
       "<style scoped>\n",
       "    .dataframe tbody tr th:only-of-type {\n",
       "        vertical-align: middle;\n",
       "    }\n",
       "\n",
       "    .dataframe tbody tr th {\n",
       "        vertical-align: top;\n",
       "    }\n",
       "\n",
       "    .dataframe thead th {\n",
       "        text-align: right;\n",
       "    }\n",
       "</style>\n",
       "<table border=\"1\" class=\"dataframe\">\n",
       "  <thead>\n",
       "    <tr style=\"text-align: right;\">\n",
       "      <th></th>\n",
       "      <th>boat_angle</th>\n",
       "      <th>boat_heel</th>\n",
       "      <th>boat_speed</th>\n",
       "      <th>course_error</th>\n",
       "      <th>rudder_angle</th>\n",
       "      <th>target_angle</th>\n",
       "      <th>wind_direction</th>\n",
       "      <th>wind_speed</th>\n",
       "    </tr>\n",
       "  </thead>\n",
       "  <tbody>\n",
       "    <tr>\n",
       "      <th>0</th>\n",
       "      <td>359.995280</td>\n",
       "      <td>0.236023</td>\n",
       "      <td>0.805639</td>\n",
       "      <td>17.772744</td>\n",
       "      <td>0.0</td>\n",
       "      <td>342.222535</td>\n",
       "      <td>182.214959</td>\n",
       "      <td>6.106869</td>\n",
       "    </tr>\n",
       "    <tr>\n",
       "      <th>1</th>\n",
       "      <td>359.989294</td>\n",
       "      <td>0.299280</td>\n",
       "      <td>0.830469</td>\n",
       "      <td>17.766759</td>\n",
       "      <td>1.0</td>\n",
       "      <td>342.222535</td>\n",
       "      <td>182.755033</td>\n",
       "      <td>6.215816</td>\n",
       "    </tr>\n",
       "    <tr>\n",
       "      <th>2</th>\n",
       "      <td>359.883771</td>\n",
       "      <td>0.276166</td>\n",
       "      <td>0.929395</td>\n",
       "      <td>17.661235</td>\n",
       "      <td>2.0</td>\n",
       "      <td>342.222535</td>\n",
       "      <td>182.137693</td>\n",
       "      <td>7.039320</td>\n",
       "    </tr>\n",
       "    <tr>\n",
       "      <th>3</th>\n",
       "      <td>359.679808</td>\n",
       "      <td>0.198110</td>\n",
       "      <td>0.888317</td>\n",
       "      <td>17.457273</td>\n",
       "      <td>3.0</td>\n",
       "      <td>342.222535</td>\n",
       "      <td>181.347893</td>\n",
       "      <td>6.821907</td>\n",
       "    </tr>\n",
       "    <tr>\n",
       "      <th>4</th>\n",
       "      <td>359.373903</td>\n",
       "      <td>0.295273</td>\n",
       "      <td>0.828390</td>\n",
       "      <td>17.151368</td>\n",
       "      <td>4.0</td>\n",
       "      <td>342.222535</td>\n",
       "      <td>182.107396</td>\n",
       "      <td>6.204858</td>\n",
       "    </tr>\n",
       "  </tbody>\n",
       "</table>\n",
       "</div>"
      ],
      "text/plain": [
       "   boat_angle  boat_heel  boat_speed  course_error  rudder_angle  \\\n",
       "0  359.995280   0.236023    0.805639     17.772744           0.0   \n",
       "1  359.989294   0.299280    0.830469     17.766759           1.0   \n",
       "2  359.883771   0.276166    0.929395     17.661235           2.0   \n",
       "3  359.679808   0.198110    0.888317     17.457273           3.0   \n",
       "4  359.373903   0.295273    0.828390     17.151368           4.0   \n",
       "\n",
       "   target_angle  wind_direction  wind_speed  \n",
       "0    342.222535      182.214959    6.106869  \n",
       "1    342.222535      182.755033    6.215816  \n",
       "2    342.222535      182.137693    7.039320  \n",
       "3    342.222535      181.347893    6.821907  \n",
       "4    342.222535      182.107396    6.204858  "
      ]
     },
     "execution_count": 26,
     "metadata": {},
     "output_type": "execute_result"
    }
   ],
   "source": [
    "data = pd.read_csv(os.path.join('..', 'data', 'history_20180916_1422.csv'), index_col=0)\n",
    "data.head()"
   ]
  },
  {
   "cell_type": "code",
   "execution_count": 27,
   "metadata": {},
   "outputs": [
    {
     "name": "stdout",
     "output_type": "stream",
     "text": [
      "3.4931085697145488\n"
     ]
    },
    {
     "data": {
      "text/plain": [
       "['../data/model.pkl']"
      ]
     },
     "execution_count": 27,
     "metadata": {},
     "output_type": "execute_result"
    }
   ],
   "source": [
    "split = int(0.8 * data.shape[0])\n",
    "\n",
    "y = data['rudder_angle']\n",
    "x = data[['boat_heel', 'boat_speed', 'course_error', 'wind_speed']]\n",
    "\n",
    "train_x, test_x = x[:split], x[split:]\n",
    "train_y, test_y = y[:split], y[split:]\n",
    "\n",
    "model = GradientBoostingRegressor()\n",
    "model.fit(train_x, train_y)\n",
    "pred_y = model.predict(test_x)\n",
    "print (mean_absolute_error(pred_y, test_y))\n",
    "\n",
    "joblib.dump(model, os.path.join('..', 'data', 'model.pkl'))\n"
   ]
  }
 ],
 "metadata": {
  "kernelspec": {
   "display_name": "Python [conda env:aicaptain]",
   "language": "python",
   "name": "conda-env-aicaptain-py"
  },
  "language_info": {
   "codemirror_mode": {
    "name": "ipython",
    "version": 3
   },
   "file_extension": ".py",
   "mimetype": "text/x-python",
   "name": "python",
   "nbconvert_exporter": "python",
   "pygments_lexer": "ipython3",
   "version": "3.6.6"
  }
 },
 "nbformat": 4,
 "nbformat_minor": 2
}
