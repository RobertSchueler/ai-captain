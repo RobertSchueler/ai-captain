{
 "cells": [
  {
   "cell_type": "code",
   "execution_count": 25,
   "metadata": {},
   "outputs": [
    {
     "name": "stdout",
     "output_type": "stream",
     "text": [
      "The autoreload extension is already loaded. To reload it, use:\n",
      "  %reload_ext autoreload\n"
     ]
    }
   ],
   "source": [
    "%load_ext autoreload\n",
    "%autoreload 2\n",
    "%matplotlib inline\n",
    "\n",
    "# update import path\n",
    "import os, sys\n",
    "sys.path.insert(1, os.path.join(sys.path[0], '..', 'src'))\n",
    "\n",
    "import io\n",
    "import pandas as pd\n",
    "import numpy as np\n",
    "import matplotlib.pyplot as plt\n",
    "from sklearn.pipeline import Pipeline\n",
    "from importlib import reload\n",
    "from sklearn.ensemble import GradientBoostingRegressor\n",
    "from sklearn.metrics import mean_absolute_error\n",
    "from sklearn.externals import joblib\n",
    "\n",
    "# no warnings on dataframe slices\n",
    "pd.options.mode.chained_assignment = None"
   ]
  },
  {
   "cell_type": "code",
   "execution_count": 48,
   "metadata": {},
   "outputs": [
    {
     "name": "stdout",
     "output_type": "stream",
     "text": [
      "(7171, 10)\n"
     ]
    },
    {
     "data": {
      "text/html": [
       "<div>\n",
       "<style scoped>\n",
       "    .dataframe tbody tr th:only-of-type {\n",
       "        vertical-align: middle;\n",
       "    }\n",
       "\n",
       "    .dataframe tbody tr th {\n",
       "        vertical-align: top;\n",
       "    }\n",
       "\n",
       "    .dataframe thead th {\n",
       "        text-align: right;\n",
       "    }\n",
       "</style>\n",
       "<table border=\"1\" class=\"dataframe\">\n",
       "  <thead>\n",
       "    <tr style=\"text-align: right;\">\n",
       "      <th></th>\n",
       "      <th>angle_of_attack</th>\n",
       "      <th>boat_angle</th>\n",
       "      <th>boat_heel</th>\n",
       "      <th>boat_speed</th>\n",
       "      <th>course_error</th>\n",
       "      <th>datetime</th>\n",
       "      <th>rudder_angle</th>\n",
       "      <th>target_angle</th>\n",
       "      <th>wind_direction</th>\n",
       "      <th>wind_speed</th>\n",
       "    </tr>\n",
       "  </thead>\n",
       "  <tbody>\n",
       "    <tr>\n",
       "      <th>0</th>\n",
       "      <td>42.846070</td>\n",
       "      <td>0.222721</td>\n",
       "      <td>11.136044</td>\n",
       "      <td>3.379326</td>\n",
       "      <td>-179.468765</td>\n",
       "      <td>2018-09-16 20:53:48.375632</td>\n",
       "      <td>0.0</td>\n",
       "      <td>179.691486</td>\n",
       "      <td>43.068791</td>\n",
       "      <td>16.307566</td>\n",
       "    </tr>\n",
       "    <tr>\n",
       "      <th>1</th>\n",
       "      <td>41.776074</td>\n",
       "      <td>0.428900</td>\n",
       "      <td>10.308938</td>\n",
       "      <td>3.199666</td>\n",
       "      <td>-179.262587</td>\n",
       "      <td>2018-09-16 20:53:48.435008</td>\n",
       "      <td>-1.0</td>\n",
       "      <td>179.691486</td>\n",
       "      <td>42.204973</td>\n",
       "      <td>15.411768</td>\n",
       "    </tr>\n",
       "    <tr>\n",
       "      <th>2</th>\n",
       "      <td>41.676696</td>\n",
       "      <td>0.701732</td>\n",
       "      <td>10.441951</td>\n",
       "      <td>3.227596</td>\n",
       "      <td>-178.989754</td>\n",
       "      <td>2018-09-16 20:53:48.477066</td>\n",
       "      <td>-2.0</td>\n",
       "      <td>179.691486</td>\n",
       "      <td>42.378428</td>\n",
       "      <td>15.639983</td>\n",
       "    </tr>\n",
       "    <tr>\n",
       "      <th>3</th>\n",
       "      <td>40.784394</td>\n",
       "      <td>1.033681</td>\n",
       "      <td>10.142279</td>\n",
       "      <td>3.161023</td>\n",
       "      <td>-178.657805</td>\n",
       "      <td>2018-09-16 20:53:48.517674</td>\n",
       "      <td>-3.0</td>\n",
       "      <td>179.691486</td>\n",
       "      <td>41.818076</td>\n",
       "      <td>15.463363</td>\n",
       "    </tr>\n",
       "    <tr>\n",
       "      <th>4</th>\n",
       "      <td>41.326493</td>\n",
       "      <td>1.432001</td>\n",
       "      <td>10.432917</td>\n",
       "      <td>3.224497</td>\n",
       "      <td>-178.259485</td>\n",
       "      <td>2018-09-16 20:53:48.561308</td>\n",
       "      <td>-4.0</td>\n",
       "      <td>179.691486</td>\n",
       "      <td>42.758494</td>\n",
       "      <td>15.734038</td>\n",
       "    </tr>\n",
       "  </tbody>\n",
       "</table>\n",
       "</div>"
      ],
      "text/plain": [
       "   angle_of_attack  boat_angle  boat_heel  boat_speed  course_error  \\\n",
       "0        42.846070    0.222721  11.136044    3.379326   -179.468765   \n",
       "1        41.776074    0.428900  10.308938    3.199666   -179.262587   \n",
       "2        41.676696    0.701732  10.441951    3.227596   -178.989754   \n",
       "3        40.784394    1.033681  10.142279    3.161023   -178.657805   \n",
       "4        41.326493    1.432001  10.432917    3.224497   -178.259485   \n",
       "\n",
       "                     datetime  rudder_angle  target_angle  wind_direction  \\\n",
       "0  2018-09-16 20:53:48.375632           0.0    179.691486       43.068791   \n",
       "1  2018-09-16 20:53:48.435008          -1.0    179.691486       42.204973   \n",
       "2  2018-09-16 20:53:48.477066          -2.0    179.691486       42.378428   \n",
       "3  2018-09-16 20:53:48.517674          -3.0    179.691486       41.818076   \n",
       "4  2018-09-16 20:53:48.561308          -4.0    179.691486       42.758494   \n",
       "\n",
       "   wind_speed  \n",
       "0   16.307566  \n",
       "1   15.411768  \n",
       "2   15.639983  \n",
       "3   15.463363  \n",
       "4   15.734038  "
      ]
     },
     "execution_count": 48,
     "metadata": {},
     "output_type": "execute_result"
    }
   ],
   "source": [
    "data = pd.read_csv(os.path.join('..', 'data', 'history_20180916_2059.csv'), index_col=0)\n",
    "print (data.shape)\n",
    "data.head()"
   ]
  },
  {
   "cell_type": "code",
   "execution_count": 49,
   "metadata": {},
   "outputs": [
    {
     "name": "stdout",
     "output_type": "stream",
     "text": [
      "1.9497262175251922\n"
     ]
    }
   ],
   "source": [
    "split = int(0.8 * data.shape[0])\n",
    "\n",
    "y = data['rudder_angle']\n",
    "x = data[['angle_of_attack', 'boat_heel', 'boat_speed', 'course_error', 'wind_speed']]\n",
    "\n",
    "train_x, test_x = x[:split], x[split:]\n",
    "train_y, test_y = y[:split], y[split:]\n",
    "\n",
    "model = GradientBoostingRegressor(n_estimators=100)\n",
    "model.fit(train_x, train_y)\n",
    "pred_y = model.predict(test_x)\n",
    "print (mean_absolute_error(pred_y, test_y))"
   ]
  },
  {
   "cell_type": "code",
   "execution_count": 50,
   "metadata": {},
   "outputs": [
    {
     "data": {
      "text/plain": [
       "['../data/model.pkl']"
      ]
     },
     "execution_count": 50,
     "metadata": {},
     "output_type": "execute_result"
    }
   ],
   "source": [
    "# save model\n",
    "joblib.dump(model, os.path.join('..', 'data', 'model.pkl'))"
   ]
  },
  {
   "cell_type": "code",
   "execution_count": null,
   "metadata": {
    "collapsed": true
   },
   "outputs": [],
   "source": []
  }
 ],
 "metadata": {
  "kernelspec": {
   "display_name": "Python [conda env:aicaptain]",
   "language": "python",
   "name": "conda-env-aicaptain-py"
  },
  "language_info": {
   "codemirror_mode": {
    "name": "ipython",
    "version": 3
   },
   "file_extension": ".py",
   "mimetype": "text/x-python",
   "name": "python",
   "nbconvert_exporter": "python",
   "pygments_lexer": "ipython3",
   "version": "3.6.6"
  }
 },
 "nbformat": 4,
 "nbformat_minor": 2
}
