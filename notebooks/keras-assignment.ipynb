{
 "cells": [
  {
   "cell_type": "code",
   "execution_count": 1,
   "metadata": {},
   "outputs": [
    {
     "name": "stderr",
     "output_type": "stream",
     "text": [
      "/Users/wouter/anaconda2/envs/aicaptain/lib/python3.6/site-packages/sklearn/cross_validation.py:41: DeprecationWarning: This module was deprecated in version 0.18 in favor of the model_selection module into which all the refactored classes and functions are moved. Also note that the interface of the new CV iterators are different from that of this module. This module will be removed in 0.20.\n",
      "  \"This module will be removed in 0.20.\", DeprecationWarning)\n",
      "Using TensorFlow backend.\n"
     ]
    }
   ],
   "source": [
    "%load_ext autoreload\n",
    "%autoreload 2\n",
    "%matplotlib inline\n",
    "\n",
    "# update import path\n",
    "import os, sys\n",
    "sys.path.insert(1, os.path.join(sys.path[0], '..', 'src'))\n",
    "\n",
    "import io\n",
    "import pandas as pd\n",
    "import numpy as np\n",
    "import matplotlib.pyplot as plt\n",
    "from sklearn.metrics import mean_absolute_error\n",
    "from sklearn.cross_validation import train_test_split\n",
    "\n",
    "# import keras modules\n",
    "import keras\n",
    "from keras.models import Sequential\n",
    "from keras.layers import Dense, Dropout\n",
    "from keras import optimizers\n",
    "from keras import losses"
   ]
  },
  {
   "cell_type": "code",
   "execution_count": 11,
   "metadata": {},
   "outputs": [
    {
     "name": "stdout",
     "output_type": "stream",
     "text": [
      "(2871, 9)\n"
     ]
    },
    {
     "data": {
      "text/html": [
       "<div>\n",
       "<style scoped>\n",
       "    .dataframe tbody tr th:only-of-type {\n",
       "        vertical-align: middle;\n",
       "    }\n",
       "\n",
       "    .dataframe tbody tr th {\n",
       "        vertical-align: top;\n",
       "    }\n",
       "\n",
       "    .dataframe thead th {\n",
       "        text-align: right;\n",
       "    }\n",
       "</style>\n",
       "<table border=\"1\" class=\"dataframe\">\n",
       "  <thead>\n",
       "    <tr style=\"text-align: right;\">\n",
       "      <th></th>\n",
       "      <th>angle_of_attack</th>\n",
       "      <th>boat_angle</th>\n",
       "      <th>boat_heel</th>\n",
       "      <th>boat_speed</th>\n",
       "      <th>course_error</th>\n",
       "      <th>rudder_angle</th>\n",
       "      <th>target_angle</th>\n",
       "      <th>wind_direction</th>\n",
       "      <th>wind_speed</th>\n",
       "    </tr>\n",
       "    <tr>\n",
       "      <th>datetime</th>\n",
       "      <th></th>\n",
       "      <th></th>\n",
       "      <th></th>\n",
       "      <th></th>\n",
       "      <th></th>\n",
       "      <th></th>\n",
       "      <th></th>\n",
       "      <th></th>\n",
       "      <th></th>\n",
       "    </tr>\n",
       "  </thead>\n",
       "  <tbody>\n",
       "    <tr>\n",
       "      <th>2018-09-20 20:45:59.452643</th>\n",
       "      <td>-134.782311</td>\n",
       "      <td>359.857720</td>\n",
       "      <td>7.113987</td>\n",
       "      <td>3.323698</td>\n",
       "      <td>-53.457968</td>\n",
       "      <td>0.0</td>\n",
       "      <td>53.315688</td>\n",
       "      <td>225.075410</td>\n",
       "      <td>10.047482</td>\n",
       "    </tr>\n",
       "    <tr>\n",
       "      <th>2018-09-20 20:45:59.509601</th>\n",
       "      <td>-135.006638</td>\n",
       "      <td>359.726539</td>\n",
       "      <td>6.559087</td>\n",
       "      <td>3.147551</td>\n",
       "      <td>-53.589149</td>\n",
       "      <td>0.0</td>\n",
       "      <td>53.315688</td>\n",
       "      <td>224.719901</td>\n",
       "      <td>9.298342</td>\n",
       "    </tr>\n",
       "    <tr>\n",
       "      <th>2018-09-20 20:45:59.556174</th>\n",
       "      <td>-134.863192</td>\n",
       "      <td>359.587913</td>\n",
       "      <td>6.931284</td>\n",
       "      <td>3.265973</td>\n",
       "      <td>-53.727775</td>\n",
       "      <td>0.0</td>\n",
       "      <td>53.315688</td>\n",
       "      <td>224.724721</td>\n",
       "      <td>9.802627</td>\n",
       "    </tr>\n",
       "    <tr>\n",
       "      <th>2018-09-20 20:45:59.600429</th>\n",
       "      <td>-133.844020</td>\n",
       "      <td>359.446388</td>\n",
       "      <td>7.076224</td>\n",
       "      <td>3.287020</td>\n",
       "      <td>-53.869299</td>\n",
       "      <td>0.0</td>\n",
       "      <td>53.315688</td>\n",
       "      <td>225.602369</td>\n",
       "      <td>9.834713</td>\n",
       "    </tr>\n",
       "    <tr>\n",
       "      <th>2018-09-20 20:45:59.645215</th>\n",
       "      <td>-133.757048</td>\n",
       "      <td>359.305141</td>\n",
       "      <td>7.062364</td>\n",
       "      <td>3.280329</td>\n",
       "      <td>-54.010547</td>\n",
       "      <td>0.0</td>\n",
       "      <td>53.315688</td>\n",
       "      <td>225.548093</td>\n",
       "      <td>9.801056</td>\n",
       "    </tr>\n",
       "  </tbody>\n",
       "</table>\n",
       "</div>"
      ],
      "text/plain": [
       "                            angle_of_attack  boat_angle  boat_heel  \\\n",
       "datetime                                                             \n",
       "2018-09-20 20:45:59.452643      -134.782311  359.857720   7.113987   \n",
       "2018-09-20 20:45:59.509601      -135.006638  359.726539   6.559087   \n",
       "2018-09-20 20:45:59.556174      -134.863192  359.587913   6.931284   \n",
       "2018-09-20 20:45:59.600429      -133.844020  359.446388   7.076224   \n",
       "2018-09-20 20:45:59.645215      -133.757048  359.305141   7.062364   \n",
       "\n",
       "                            boat_speed  course_error  rudder_angle  \\\n",
       "datetime                                                             \n",
       "2018-09-20 20:45:59.452643    3.323698    -53.457968           0.0   \n",
       "2018-09-20 20:45:59.509601    3.147551    -53.589149           0.0   \n",
       "2018-09-20 20:45:59.556174    3.265973    -53.727775           0.0   \n",
       "2018-09-20 20:45:59.600429    3.287020    -53.869299           0.0   \n",
       "2018-09-20 20:45:59.645215    3.280329    -54.010547           0.0   \n",
       "\n",
       "                            target_angle  wind_direction  wind_speed  \n",
       "datetime                                                              \n",
       "2018-09-20 20:45:59.452643     53.315688      225.075410   10.047482  \n",
       "2018-09-20 20:45:59.509601     53.315688      224.719901    9.298342  \n",
       "2018-09-20 20:45:59.556174     53.315688      224.724721    9.802627  \n",
       "2018-09-20 20:45:59.600429     53.315688      225.602369    9.834713  \n",
       "2018-09-20 20:45:59.645215     53.315688      225.548093    9.801056  "
      ]
     },
     "execution_count": 11,
     "metadata": {},
     "output_type": "execute_result"
    }
   ],
   "source": [
    "# read csv\n",
    "data = pd.read_csv(os.path.join('..', 'data', 'logs', 'history_20180920_2048.csv'), index_col=0)\n",
    "\n",
    "# make datetime index (could also be done directly in read_csv)\n",
    "data['datetime'] = pd.to_datetime(data['datetime'])\n",
    "data = data.set_index('datetime')\n",
    "\n",
    "print (data.shape)\n",
    "data.head()"
   ]
  },
  {
   "cell_type": "code",
   "execution_count": 12,
   "metadata": {},
   "outputs": [
    {
     "data": {
      "text/plain": [
       "<matplotlib.axes._subplots.AxesSubplot at 0x1a34a9c438>"
      ]
     },
     "execution_count": 12,
     "metadata": {},
     "output_type": "execute_result"
    },
    {
     "data": {
      "image/png": "[encoded data removed]",
      "text/plain": [
       "<Figure size 432x288 with 1 Axes>"
      ]
     },
     "metadata": {
      "needs_background": "light"
     },
     "output_type": "display_data"
    }
   ],
   "source": [
    "# show the boat approaching the target course\n",
    "data['target_angle'].plot()\n",
    "data['boat_angle'].plot()"
   ]
  },
  {
   "cell_type": "code",
   "execution_count": 13,
   "metadata": {},
   "outputs": [
    {
     "name": "stdout",
     "output_type": "stream",
     "text": [
      "_________________________________________________________________\n",
      "Layer (type)                 Output Shape              Param #   \n",
      "=================================================================\n",
      "dense_9 (Dense)              (None, 128)               768       \n",
      "_________________________________________________________________\n",
      "dense_10 (Dense)             (None, 128)               16512     \n",
      "_________________________________________________________________\n",
      "dense_11 (Dense)             (None, 128)               16512     \n",
      "_________________________________________________________________\n",
      "dense_12 (Dense)             (None, 1)                 129       \n",
      "=================================================================\n",
      "Total params: 33,921\n",
      "Trainable params: 33,921\n",
      "Non-trainable params: 0\n",
      "_________________________________________________________________\n",
      "Train on 2066 samples, validate on 517 samples\n",
      "Epoch 1/20\n",
      "2066/2066 [==============================] - 1s 512us/step - loss: 60.6888 - val_loss: 34.1296\n",
      "Epoch 2/20\n",
      "2066/2066 [==============================] - 0s 232us/step - loss: 34.3136 - val_loss: 30.7511\n",
      "Epoch 3/20\n",
      "2066/2066 [==============================] - 0s 237us/step - loss: 27.5043 - val_loss: 24.9274\n",
      "Epoch 4/20\n",
      "2066/2066 [==============================] - 0s 227us/step - loss: 23.6554 - val_loss: 23.0114\n",
      "Epoch 5/20\n",
      "2066/2066 [==============================] - 0s 228us/step - loss: 20.9247 - val_loss: 20.1048\n",
      "Epoch 6/20\n",
      "2066/2066 [==============================] - 0s 229us/step - loss: 18.0362 - val_loss: 18.0782\n",
      "Epoch 7/20\n",
      "2066/2066 [==============================] - 0s 229us/step - loss: 16.6323 - val_loss: 16.8216\n",
      "Epoch 8/20\n",
      "2066/2066 [==============================] - 0s 229us/step - loss: 15.1774 - val_loss: 15.5675\n",
      "Epoch 9/20\n",
      "2066/2066 [==============================] - 0s 231us/step - loss: 14.3692 - val_loss: 14.3665\n",
      "Epoch 10/20\n",
      "2066/2066 [==============================] - 0s 230us/step - loss: 13.0823 - val_loss: 13.7823\n",
      "Epoch 11/20\n",
      "2066/2066 [==============================] - 0s 229us/step - loss: 12.2758 - val_loss: 14.2067\n",
      "Epoch 12/20\n",
      "2066/2066 [==============================] - 0s 235us/step - loss: 12.0657 - val_loss: 13.2363\n",
      "Epoch 13/20\n",
      "2066/2066 [==============================] - 0s 239us/step - loss: 12.0049 - val_loss: 13.5507\n",
      "Epoch 14/20\n",
      "2066/2066 [==============================] - 0s 236us/step - loss: 11.4916 - val_loss: 12.2138\n",
      "Epoch 15/20\n",
      "2066/2066 [==============================] - 0s 233us/step - loss: 10.6970 - val_loss: 12.3559\n",
      "Epoch 16/20\n",
      "2066/2066 [==============================] - 0s 230us/step - loss: 11.1007 - val_loss: 12.0372\n",
      "Epoch 17/20\n",
      "2066/2066 [==============================] - 0s 230us/step - loss: 10.9376 - val_loss: 11.1346\n",
      "Epoch 18/20\n",
      "2066/2066 [==============================] - 0s 231us/step - loss: 10.2196 - val_loss: 10.8993\n",
      "Epoch 19/20\n",
      "2066/2066 [==============================] - 0s 239us/step - loss: 9.5444 - val_loss: 10.0390\n",
      "Epoch 20/20\n",
      "2066/2066 [==============================] - 0s 238us/step - loss: 9.5989 - val_loss: 12.6452\n",
      "1.9188452273262646\n"
     ]
    }
   ],
   "source": [
    "# select features and target\n",
    "y = data['rudder_angle']\n",
    "\n",
    "### CHOOSE FEATURES TO USE ###\n",
    "x = data[[...]]\n",
    "\n",
    "# split test/train sets\n",
    "x_train, x_test, y_train, y_test = train_test_split(x, y, test_size=0.10, random_state=42)\n",
    "\n",
    "# create model\n",
    "model = Sequential([\n",
    "    ### ADD YOUR LAYERS HERE ###\n",
    "])\n",
    "\n",
    "### CHOOSE LOSS FUNCTION AND OPTIMIZER ###\n",
    "model.compile(loss='...', optimizer='...')\n",
    "\n",
    "# show summary of the model\n",
    "model.summary()\n",
    "\n",
    "# fit model to training data\n",
    "model.fit(x_train, y_train, validation_split=0.2, epochs=20)\n",
    "\n",
    "# show performance\n",
    "pred_y = model.predict(x_test)\n",
    "print (mean_absolute_error(pred_y, y_test))"
   ]
  },
  {
   "cell_type": "code",
   "execution_count": 14,
   "metadata": {
    "collapsed": true
   },
   "outputs": [],
   "source": [
    "# save model to file\n",
    "model.save(os.path.join('..', 'data', 'my-keras-model.h5'))"
   ]
  },
  {
   "cell_type": "code",
   "execution_count": null,
   "metadata": {
    "collapsed": true
   },
   "outputs": [],
   "source": []
  }
 ],
 "metadata": {
  "kernelspec": {
   "display_name": "Python [conda env:aicaptain]",
   "language": "python",
   "name": "conda-env-aicaptain-py"
  },
  "language_info": {
   "codemirror_mode": {
    "name": "ipython",
    "version": 3
   },
   "file_extension": ".py",
   "mimetype": "text/x-python",
   "name": "python",
   "nbconvert_exporter": "python",
   "pygments_lexer": "ipython3",
   "version": "3.6.6"
  }
 },
 "nbformat": 4,
 "nbformat_minor": 2
}
